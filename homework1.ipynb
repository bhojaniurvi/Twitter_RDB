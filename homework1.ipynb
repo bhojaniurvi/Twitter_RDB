{
 "cells": [
  {
   "cell_type": "code",
   "execution_count": 1,
   "id": "8f6d4a96",
   "metadata": {},
   "outputs": [
    {
     "data": {
      "text/plain": [
       "'\\n# DS4300: Large-Scale Information Storage and Retrieval\\n# Homework 1: Twitter Engineering\\n# Urvi Bhojani, Rishita Shroff\\n# January 19th, 2023\\n\\nCode\\n'"
      ]
     },
     "execution_count": 1,
     "metadata": {},
     "output_type": "execute_result"
    }
   ],
   "source": [
    "\"\"\"\n",
    "# DS4300: Large-Scale Information Storage and Retrieval\n",
    "# Homework 1: Twitter Engineering\n",
    "# Urvi Bhojani, Rishita Shroff\n",
    "# January 19th, 2023\n",
    "\n",
    "Code\n",
    "\"\"\""
   ]
  },
  {
   "cell_type": "code",
   "execution_count": 2,
   "id": "ddbbfa9e",
   "metadata": {},
   "outputs": [],
   "source": [
    "# import libraries\n",
    "import pymysql\n",
    "import pandas as pd\n",
    "from datetime import datetime\n",
    "import time\n",
    "import random\n",
    "\n",
    "# connect to MySQL server and database\n",
    "cnx = pymysql.connect(host='localhost', user='root', password='Guess@110603', db='twitter_engineering',\n",
    "                      cursorclass=pymysql.cursors.DictCursor)\n",
    "\n",
    "# Create a cursor\n",
    "cursor = cnx.cursor()"
   ]
  },
  {
   "cell_type": "code",
   "execution_count": 3,
   "id": "d4b93cc8",
   "metadata": {},
   "outputs": [],
   "source": [
    "def post_tweets(data = \"tweets_sample.csv\"):\n",
    "    \"\"\"\n",
    "    Reads pre-generated tweets from the data file, auto-assigns tweet_id and timestamp\n",
    "    \n",
    "    Args:\n",
    "        data_file (str): name of the file\n",
    "    \n",
    "    Returns:\n",
    "        tweet_per_sec (float): number of tweets per second\n",
    "    \"\"\"\n",
    "    \n",
    "    # opening the file\n",
    "    file = open(data, 'r')\n",
    "    \n",
    "    # reading each line\n",
    "    file.readline()\n",
    "    \n",
    "    # setting a counter to count the total number of tweets\n",
    "    total_tweets = 0\n",
    "    \n",
    "    # start time of running the task\n",
    "    start = time.time()\n",
    "    \n",
    "    # checking for each row\n",
    "    for line in file:\n",
    "        \n",
    "        # adding total tweets\n",
    "        total_tweets += 1\n",
    "        \n",
    "        # storing values in the file\n",
    "        user_id, tweet_text = line.strip().split(',')\n",
    "        \n",
    "        # auto-assigning the tweet_id and timestamp\n",
    "        tweet_ts = datetime.now()\n",
    "        tweet_id = None\n",
    "        \n",
    "        # inserting row to table\n",
    "        sql = \"INSERT INTO TWEET (tweet_id, user_id, tweet_ts, tweet_text) VALUES (%s, %s, %s, %s)\"\n",
    "        value = (tweet_id, user_id, tweet_ts, tweet_text)\n",
    "        cursor.execute(sql, value)\n",
    "        cnx.commit()\n",
    "        \n",
    "    # closing the file    \n",
    "    file.close()\n",
    "    \n",
    "    # end time of running the task\n",
    "    end = time.time()\n",
    "    \n",
    "    # amount of time taken\n",
    "    time_taken = end - start\n",
    "    \n",
    "    # calculating tweet per second\n",
    "    tweet_per_sec = total_tweets / time_taken * 1000\n",
    "    \n",
    "    # returning tweet per second\n",
    "    return tweet_per_sec"
   ]
  },
  {
   "cell_type": "code",
   "execution_count": 4,
   "id": "865d1e77",
   "metadata": {},
   "outputs": [
    {
     "data": {
      "text/plain": [
       "69374.68071482074"
      ]
     },
     "execution_count": 4,
     "metadata": {},
     "output_type": "execute_result"
    }
   ],
   "source": [
    "# calling the function\n",
    "post_tweets()"
   ]
  },
  {
   "cell_type": "code",
   "execution_count": 5,
   "id": "75f5d70d",
   "metadata": {},
   "outputs": [],
   "source": [
    "def home_timelines(random_user):\n",
    "    \"\"\"\n",
    "    Gets the home timeline i.e. 10 most recent tweets\n",
    "    \n",
    "    Args:\n",
    "        random_user (int): random user generated\n",
    "        \n",
    "    Returns:\n",
    "        tweets_retrieved (list): list of dictionary with 10 most recent tweets\n",
    "                                 posted by users followed by the selected users\n",
    "    \"\"\"\n",
    "    \n",
    "    # retrieves tweets posted by the users the selected random user follows\n",
    "    sql = \"\"\"SELECT tweet_text FROM TWEET WHERE user_id IN \n",
    "            (SELECT follows_id FROM FOLLOW WHERE user_id = %s) \n",
    "             ORDER BY tweet_ts DESC \n",
    "             LIMIT 10\"\"\"\n",
    "    value = (random_user)\n",
    "    cursor.execute(sql, value)\n",
    "    \n",
    "    # fetches the results\n",
    "    tweets_retrieved = cursor.fetchall()\n",
    "    \n",
    "    return tweets_retrieved    "
   ]
  },
  {
   "cell_type": "code",
   "execution_count": 6,
   "id": "9996c8eb",
   "metadata": {},
   "outputs": [
    {
     "name": "stdout",
     "output_type": "stream",
     "text": [
      "321560.30543714925\n"
     ]
    }
   ],
   "source": [
    "# setting number of timelines to be retrieved\n",
    "timelines_to_retrieve = 5\n",
    "\n",
    "# start time of running the task\n",
    "start = time.time()\n",
    "\n",
    "# checking for each timeline\n",
    "for _ in range(timelines_to_retrieve):\n",
    "    \n",
    "    # getting a random user\n",
    "    random_user = random.randint(1, 5)\n",
    "    \n",
    "    # calling the home_timelines function\n",
    "    timeline = home_timelines(random_user)\n",
    "\n",
    "# end time of running the task\n",
    "end = time.time()\n",
    "\n",
    "# amount of time taken\n",
    "time_taken = end - start\n",
    "\n",
    "# calculating timelines retrieved per second\n",
    "timelines_retrieved_per_sec = timelines_to_retrieve / time_taken * 1000\n",
    "\n",
    "print(timelines_retrieved_per_sec)"
   ]
  },
  {
   "cell_type": "code",
   "execution_count": null,
   "id": "252752cd",
   "metadata": {},
   "outputs": [],
   "source": []
  }
 ],
 "metadata": {
  "kernelspec": {
   "display_name": "Python 3 (ipykernel)",
   "language": "python",
   "name": "python3"
  },
  "language_info": {
   "codemirror_mode": {
    "name": "ipython",
    "version": 3
   },
   "file_extension": ".py",
   "mimetype": "text/x-python",
   "name": "python",
   "nbconvert_exporter": "python",
   "pygments_lexer": "ipython3",
   "version": "3.9.15"
  }
 },
 "nbformat": 4,
 "nbformat_minor": 5
}
